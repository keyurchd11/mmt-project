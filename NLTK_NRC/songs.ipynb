{
 "cells": [
  {
   "cell_type": "code",
   "execution_count": 13,
   "metadata": {},
   "outputs": [
    {
     "name": "stderr",
     "output_type": "stream",
     "text": [
      "[nltk_data] Downloading package punkt to /home/keyur/nltk_data...\n",
      "[nltk_data]   Package punkt is already up-to-date!\n",
      "[nltk_data] Downloading package averaged_perceptron_tagger to\n",
      "[nltk_data]     /home/keyur/nltk_data...\n",
      "[nltk_data]   Package averaged_perceptron_tagger is already up-to-\n",
      "[nltk_data]       date!\n"
     ]
    }
   ],
   "source": [
    "import nltk\n",
    "nltk.download('punkt')\n",
    "nltk.download('averaged_perceptron_tagger')\n",
    "\n",
    "from collections import Counter"
   ]
  },
  {
   "cell_type": "code",
   "execution_count": 14,
   "metadata": {},
   "outputs": [],
   "source": [
    "def pos_count(text):\n",
    "    tokens = nltk.word_tokenize(text)\n",
    "    pos_tags = nltk.pos_tag(tokens)\n",
    "    \n",
    "    cc_count = 0\n",
    "    in_count = 0\n",
    "    adj_count = 0\n",
    "    noun_count = 0\n",
    "    prp_count = 0\n",
    "    adv_count = 0\n",
    "    to_count = 0\n",
    "    uh_count = 0\n",
    "    verb_count = 0\n",
    "    \n",
    "    for token, tag in pos_tags:\n",
    "        if tag == 'CC':\n",
    "            cc_count += 1\n",
    "        elif tag == 'IN':\n",
    "            in_count += 1\n",
    "        elif tag.startswith('JJ'):\n",
    "            adj_count += 1\n",
    "        elif tag.startswith('NN'):\n",
    "            noun_count += 1\n",
    "        elif tag == 'PRP' or tag == 'PRP$':\n",
    "            prp_count += 1\n",
    "        elif tag.startswith('RB'):\n",
    "            adv_count += 1\n",
    "        elif tag == 'TO':\n",
    "            to_count += 1\n",
    "        elif tag == 'UH':\n",
    "            uh_count += 1\n",
    "        elif tag.startswith('VB'):\n",
    "            verb_count += 1\n",
    "            \n",
    "    return [cc_count, in_count, adj_count, noun_count, prp_count, adv_count, to_count, uh_count, verb_count]\n",
    "\n"
   ]
  },
  {
   "cell_type": "code",
   "execution_count": 15,
   "metadata": {},
   "outputs": [],
   "source": [
    "import os\n",
    "\n",
    "scores = {}\n",
    "for filename in os.listdir('OneFilePerEmotion'):\n",
    "    # split the file name based on -\n",
    "    parts = filename.split('-')\n",
    "    emotion = parts[0]\n",
    "    # read the file \n",
    "    with open('OneFilePerEmotion/' + filename) as f:\n",
    "        # read the lines\n",
    "        lines = f.readlines()\n",
    "        # iterate over the lines\n",
    "        for line in lines:\n",
    "            # split the line into words\n",
    "            words = line.split()\n",
    "            if words[0] in scores:\n",
    "                scores[words[0]][emotion] = int(words[1])\n",
    "            else:\n",
    "                scores[words[0]] = {emotion: int(words[1])}"
   ]
  },
  {
   "cell_type": "code",
   "execution_count": 16,
   "metadata": {},
   "outputs": [],
   "source": [
    "\n",
    "def get_emotion_scores(text, scores=scores):\n",
    "    # split the text into words\n",
    "    words = text.split()\n",
    "    # initialize the emotion scores\n",
    "    emotion_scores = {'anger': 0, 'anticipation': 0, 'disgust': 0, 'fear': 0, 'joy': 0, 'negative': 0, 'positive': 0, 'sadness': 0, 'surprise': 0, 'trust': 0}\n",
    "    # iterate over the words\n",
    "    for word in words:\n",
    "        # if the word is in the scores dictionary\n",
    "        if word in scores:\n",
    "            # iterate over the emotions\n",
    "            for emotion in scores[word]:\n",
    "                # add the score to the emotion score\n",
    "                emotion_scores[emotion] += scores[word][emotion]\n",
    "    scores = []\n",
    "    emotions = ['anger', 'anticipation', 'disgust', 'fear', 'joy', 'negative', 'positive', 'sadness', 'surprise', 'trust']\n",
    "    for emotion in emotions:\n",
    "        scores.append(emotion_scores[emotion])\n",
    "    return scores"
   ]
  },
  {
   "cell_type": "code",
   "execution_count": 18,
   "metadata": {},
   "outputs": [],
   "source": [
    "# check all songs in uniqueSongs.csv\n",
    "# add the emotion score and pos count to the DataFrame\n",
    "import pandas as pd\n",
    "import langdetect\n",
    "\n",
    "\n",
    "# Load the CSV file into a Pandas DataFrame\n",
    "df = pd.read_csv('uniqueSongs.csv')\n",
    "# remove duplicate ids\n",
    "df = df.drop_duplicates(subset='id', keep='first')\n",
    "\n",
    "emotions = ['anger', 'anticipation', 'disgust', 'fear', 'joy', 'nega    tive', 'positive', 'sadness', 'surprise', 'trust']\n",
    "pos_tags = ['Coordinate conjunction', 'Preposition or subordinating conjunction', 'Adjective', 'Noun', 'Pronoun', 'Adverb', 'TO', 'Interjection', 'Verb']\n",
    "\n",
    "# iterate over the rows of the DataFrame\n",
    "for index, row in df.iterrows():\n",
    "    # read the lyrics file\n",
    "    with open('lyrics/' + row['song_path']) as f:\n",
    "        lyrics = f.read()\n",
    "        if len(lyrics) == 0:\n",
    "            continue\n",
    "        # check if the lyrics are in english\n",
    "        try:\n",
    "            if langdetect.detect(lyrics) != 'en':\n",
    "                continue\n",
    "        except:\n",
    "            print(row['song_path'])\n",
    "            continue\n",
    "        # get the emotion scores\n",
    "        emotion_scores = get_emotion_scores(lyrics)\n",
    "        # get the pos counts\n",
    "        pos_counts = pos_count(lyrics)\n",
    "        # add the emotion scores to the DataFrame\n",
    "        for i in range(len(emotion_scores)):\n",
    "            df.at[index, emotions[i]] = emotion_scores[i]\n",
    "        # add the pos counts to the DataFrame\n",
    "        for i in range(len(pos_counts)):\n",
    "            df.at[index, pos_tags[i]] = pos_counts[i]\n",
    "\n",
    "# Save the DataFrame to a new CSV file\n",
    "df.to_csv('uniqueSongsWithEmotionScores.csv', index=False)"
   ]
  }
 ],
 "metadata": {
  "kernelspec": {
   "display_name": "Python 3",
   "language": "python",
   "name": "python3"
  },
  "language_info": {
   "codemirror_mode": {
    "name": "ipython",
    "version": 3
   },
   "file_extension": ".py",
   "mimetype": "text/x-python",
   "name": "python",
   "nbconvert_exporter": "python",
   "pygments_lexer": "ipython3",
   "version": "3.10.6"
  },
  "orig_nbformat": 4
 },
 "nbformat": 4,
 "nbformat_minor": 2
}
